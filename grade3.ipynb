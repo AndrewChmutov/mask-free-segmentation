{
 "cells": [
  {
   "cell_type": "code",
   "execution_count": 1,
   "id": "8bbd58e4-9d23-4463-9505-b00eeaa6694f",
   "metadata": {},
   "outputs": [],
   "source": [
    "%load_ext autoreload\n",
    "%autoreload 2\n",
    "\n",
    "import warnings\n",
    "from tqdm import TqdmWarning\n",
    "    \n",
    "warnings.filterwarnings(module=\"tqdm.auto\", action=\"ignore\", category=TqdmWarning)"
   ]
  },
  {
   "cell_type": "code",
   "execution_count": 2,
   "id": "0977d55c-e4b8-4bd9-898e-e190acd2ef72",
   "metadata": {},
   "outputs": [],
   "source": [
    "from segmentation.loader import load\n",
    "from segmentation.model import ResnetCrackModel, CaptumModel\n",
    "from torchvision import transforms\n",
    "from torch.utils.data import DataLoader\n",
    "import torch"
   ]
  },
  {
   "cell_type": "code",
   "execution_count": 3,
   "id": "8b6dc641-e15f-4f7f-b304-a6b1a19ca5dc",
   "metadata": {},
   "outputs": [],
   "source": [
    "transform = transforms.Compose([\n",
    "    transforms.Resize((224, 224)),\n",
    "    transforms.ToTensor(),\n",
    "    transforms.Normalize(\n",
    "        mean=[0.485, 0.456, 0.406],\n",
    "        std=[0.229, 0.224, 0.225]\n",
    "    )\n",
    "])\n",
    "\n",
    "data = load(\"3\", transform=transform, random_state=18)"
   ]
  },
  {
   "cell_type": "code",
   "execution_count": null,
   "id": "576b2b19-2733-4691-a4b4-9fb885ecb740",
   "metadata": {},
   "outputs": [
    {
     "name": "stderr",
     "output_type": "stream",
     "text": [
      "Epoch 1/100: Training: 100%|██████████| 211/211 [07:08<00:00,  2.03s/it]\n"
     ]
    },
    {
     "name": "stdout",
     "output_type": "stream",
     "text": [
      "Epoch 1/100 Average Batch Loss: 0.30033614858984947\n"
     ]
    },
    {
     "name": "stderr",
     "output_type": "stream",
     "text": [
      "Epoch 1/100: Validation: 100%|██████████| 91/91 [00:17<00:00,  5.16it/s]\n"
     ]
    },
    {
     "name": "stdout",
     "output_type": "stream",
     "text": [
      "Epoch 1/100 Val Accuracy: 0.92\n",
      "Epoch 1/100 Average Batch Loss: 0.19\n"
     ]
    },
    {
     "name": "stderr",
     "output_type": "stream",
     "text": [
      "Epoch 2/100: Training:  73%|███████▎  | 153/211 [04:46<01:43,  1.78s/it]"
     ]
    }
   ],
   "source": [
    "torch.cuda.manual_seed(21)\n",
    "\n",
    "model = ResnetCrackModel(version=\"50\", reuse_weights=False)\n",
    "# model = ResnetCrackModel(version=\"50\", path=\"resnet50.pth\")\n",
    "model.train(data.train_loader, data.val_loader, epochs=100, val_acc_threshold=0.99)"
   ]
  },
  {
   "cell_type": "code",
   "execution_count": null,
   "id": "87cf29cf-9d26-46da-9458-04a42d6b95f1",
   "metadata": {},
   "outputs": [],
   "source": [
    "model.evaluate(data.test_loader)"
   ]
  },
  {
   "cell_type": "code",
   "execution_count": 6,
   "id": "26867a9f",
   "metadata": {},
   "outputs": [],
   "source": [
    "torch.save(model.model.state_dict(), \"resnet50_6.pth\")"
   ]
  },
  {
   "cell_type": "code",
   "execution_count": 5,
   "id": "4d7b5e20-cdb0-46b2-8368-4f94ed8e8846",
   "metadata": {},
   "outputs": [],
   "source": [
    "ct = CaptumModel(model.model, 99.5)"
   ]
  },
  {
   "cell_type": "code",
   "execution_count": null,
   "id": "fe9e843c-dd89-4073-8fab-a377c5c4fd3c",
   "metadata": {},
   "outputs": [],
   "source": [
    "for i in ct(DataLoader(data.test_dataset, batch_size=1)):\n",
    "    pass"
   ]
  },
  {
   "cell_type": "code",
   "execution_count": null,
   "id": "f23f79aa-a7d6-4842-ae16-0200e508f698",
   "metadata": {},
   "outputs": [],
   "source": []
  }
 ],
 "metadata": {
  "kernelspec": {
   "display_name": "Python 3",
   "language": "python",
   "name": "python3"
  },
  "language_info": {
   "codemirror_mode": {
    "name": "ipython",
    "version": 3
   },
   "file_extension": ".py",
   "mimetype": "text/x-python",
   "name": "python",
   "nbconvert_exporter": "python",
   "pygments_lexer": "ipython3",
   "version": "3.11.5"
  }
 },
 "nbformat": 4,
 "nbformat_minor": 5
}
