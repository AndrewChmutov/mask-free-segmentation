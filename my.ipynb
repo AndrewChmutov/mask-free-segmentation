{
 "cells": [
  {
   "cell_type": "code",
   "execution_count": 1,
   "id": "6002e2c0-f3be-4a80-9126-c8629febf425",
   "metadata": {},
   "outputs": [
    {
     "name": "stderr",
     "output_type": "stream",
     "text": [
      "/home/warlock/repos/segmentation/.venv/lib/python3.12/site-packages/tqdm/auto.py:21: TqdmWarning: IProgress not found. Please update jupyter and ipywidgets. See https://ipywidgets.readthedocs.io/en/stable/user_install.html\n",
      "  from .autonotebook import tqdm as notebook_tqdm\n"
     ]
    }
   ],
   "source": [
    "import os\n",
    "from PIL import Image\n",
    "from torch.utils.data import Dataset, DataLoader, random_split\n",
    "from torchvision import transforms\n",
    "from sklearn.model_selection import train_test_split\n",
    "from torch.utils.data import Subset\n",
    "import torch\n",
    "import torch.nn as nn\n",
    "from torchvision import models\n",
    "from captum.attr import IntegratedGradients\n",
    "import numpy as np\n"
   ]
  },
  {
   "cell_type": "code",
   "execution_count": 2,
   "id": "0ac76ba4-dc17-4abb-830c-43e0131554c8",
   "metadata": {},
   "outputs": [],
   "source": [
    "# Transformations for preprocessing\n",
    "transform = transforms.Compose([\n",
    "    transforms.Resize((224, 224)),\n",
    "    transforms.ToTensor(),\n",
    "    transforms.Normalize(mean=[0.485, 0.456, 0.406], std=[0.229, 0.224, 0.225])\n",
    "])"
   ]
  },
  {
   "cell_type": "code",
   "execution_count": 3,
   "id": "95503a46-1273-4b1c-9ef0-d32dd381dc6e",
   "metadata": {},
   "outputs": [],
   "source": [
    "# Dataset Loader\n",
    "class CrackDataset(Dataset):\n",
    "    def __init__(self, root_dir, transform=None):\n",
    "        self.root_dir = root_dir\n",
    "        self.transform = transform\n",
    "        self.image_paths = []\n",
    "        self.labels = []\n",
    "\n",
    "        # Iterate over files and assign labels based on the filename\n",
    "        for filename in os.listdir(root_dir):\n",
    "            if filename.lower().startswith('noncrack'):\n",
    "                self.image_paths.append(os.path.join(root_dir, filename))\n",
    "                self.labels.append(0)  # 0 for No Crack\n",
    "            else:\n",
    "                self.image_paths.append(os.path.join(root_dir, filename))\n",
    "                self.labels.append(1)  # 1 for Crack\n",
    "\n",
    "    def __len__(self):\n",
    "        return len(self.image_paths)\n",
    "\n",
    "    def __getitem__(self, idx):\n",
    "        img_path = self.image_paths[idx]\n",
    "        label = self.labels[idx]\n",
    "        image = Image.open(img_path).convert('RGB')\n",
    "        if self.transform:\n",
    "            image = self.transform(image)\n",
    "        return image, label"
   ]
  },
  {
   "cell_type": "code",
   "execution_count": 4,
   "id": "82dfc102-d19f-4c2c-965b-afa916daf633",
   "metadata": {},
   "outputs": [],
   "source": [
    "# Load dataset\n",
    "dataset = CrackDataset(root_dir='data/train/images', transform=transform)"
   ]
  },
  {
   "cell_type": "code",
   "execution_count": 5,
   "id": "fe79bbb6-069d-4912-8773-7e4a0e74b827",
   "metadata": {},
   "outputs": [],
   "source": [
    "# Split data\n",
    "indices = list(range(len(dataset)))\n",
    "labels = dataset.labels\n",
    "\n",
    "# Split indices into train, val, and test (70/15/15)\n",
    "train_indices, val_indices, train_labels, val_labels = train_test_split(\n",
    "    indices, labels, test_size=0.2, stratify=labels, random_state=42\n",
    ")\n",
    "\n",
    "train_dataset = Subset(dataset, train_indices)\n",
    "val_dataset = Subset(dataset, val_indices)\n",
    "\n",
    "# DataLoaders\n",
    "train_loader = DataLoader(train_dataset, batch_size=32, shuffle=True)\n",
    "val_loader = DataLoader(val_dataset, batch_size=32, shuffle=False)"
   ]
  },
  {
   "cell_type": "code",
   "execution_count": 6,
   "id": "5c0aa126-dce0-4e10-b2b2-b71ddb8ed2bd",
   "metadata": {},
   "outputs": [
    {
     "name": "stderr",
     "output_type": "stream",
     "text": [
      "/home/warlock/repos/segmentation/.venv/lib/python3.12/site-packages/torchvision/models/_utils.py:208: UserWarning: The parameter 'pretrained' is deprecated since 0.13 and may be removed in the future, please use 'weights' instead.\n",
      "  warnings.warn(\n",
      "/home/warlock/repos/segmentation/.venv/lib/python3.12/site-packages/torchvision/models/_utils.py:223: UserWarning: Arguments other than a weight enum or `None` for 'weights' are deprecated since 0.13 and may be removed in the future. The current behavior is equivalent to passing `weights=ResNet18_Weights.IMAGENET1K_V1`. You can also use `weights=ResNet18_Weights.DEFAULT` to get the most up-to-date weights.\n",
      "  warnings.warn(msg)\n"
     ]
    }
   ],
   "source": [
    "# Load Pre-trained ResNet\n",
    "model = models.resnet18(pretrained=True)\n",
    "\n",
    "# Replace the final layer\n",
    "num_ftrs = model.fc.in_features\n",
    "model.fc = nn.Linear(num_ftrs, 2)  # 2 Classes: Crack, No Crack\n",
    "\n",
    "# Move model to GPU if available\n",
    "device = torch.device('cuda' if torch.cuda.is_available() else 'cpu')\n",
    "model = model.to(device)\n",
    "\n",
    "# Define loss function and optimizer\n",
    "criterion = nn.CrossEntropyLoss()\n",
    "optimizer = torch.optim.Adam(model.parameters(), lr=0.001)"
   ]
  },
  {
   "cell_type": "code",
   "execution_count": 7,
   "id": "c93903c3-cb60-416f-b504-5c19a252d35e",
   "metadata": {},
   "outputs": [],
   "source": [
    "from tqdm import tqdm\n",
    "\n",
    "# Training and Validation Loop\n",
    "def train_model(model, criterion, optimizer, train_loader, val_loader, epochs=1):\n",
    "    for epoch in range(epochs):\n",
    "        model.train()\n",
    "        running_loss = 0.0\n",
    "        for inputs, labels in tqdm(train_loader):\n",
    "            inputs, labels = inputs.to(device), labels.to(device)\n",
    "            \n",
    "            optimizer.zero_grad()\n",
    "            outputs = model(inputs)\n",
    "            loss = criterion(outputs, labels)\n",
    "            loss.backward()\n",
    "            optimizer.step()\n",
    "            \n",
    "            running_loss += loss.item()\n",
    "        \n",
    "        print(f\"Epoch {epoch+1}/{epochs}, Loss: {running_loss/len(train_loader)}\")\n",
    "        \n",
    "        # Validation Phase\n",
    "        model.eval()\n",
    "        correct = 0\n",
    "        total = 0\n",
    "        with torch.no_grad():\n",
    "            for inputs, labels in val_loader:\n",
    "                inputs, labels = inputs.to(device), labels.to(device)\n",
    "                outputs = model(inputs)\n",
    "                _, predicted = torch.max(outputs, 1)\n",
    "                total += labels.size(0)\n",
    "                correct += (predicted == labels).sum().item()\n",
    "        \n",
    "        val_acc = correct / total\n",
    "        print(f\"Validation Accuracy: {val_acc:.2f}\")\n",
    "        # if val_acc > 0.98:\n",
    "        #     break\n"
   ]
  },
  {
   "cell_type": "code",
   "execution_count": 8,
   "id": "58447e19-6da7-4481-90eb-884f3e0ce562",
   "metadata": {},
   "outputs": [
    {
     "name": "stderr",
     "output_type": "stream",
     "text": [
      "100%|██████████████████████████████████████████████████████████████████████████████████████████████████████████████████████████████████████████████████████████████████████████████| 241/241 [02:18<00:00,  1.73it/s]\n"
     ]
    },
    {
     "name": "stdout",
     "output_type": "stream",
     "text": [
      "Epoch 1/1, Loss: 0.17733964773041827\n",
      "Validation Accuracy: 0.96\n"
     ]
    }
   ],
   "source": [
    "train_model(model, criterion, optimizer, train_loader, val_loader)"
   ]
  },
  {
   "cell_type": "code",
   "execution_count": 25,
   "id": "5776c621-3ddb-41e6-9249-3830c4fbc727",
   "metadata": {},
   "outputs": [
    {
     "data": {
      "image/jpeg": "[encoded data removed]",
      "image/png": "[encoded data removed]",
      "text/plain": [
       "<PIL.Image.Image image mode=L size=224x224>"
      ]
     },
     "execution_count": 25,
     "metadata": {},
     "output_type": "execute_result"
    }
   ],
   "source": [
    "# Take and process\n",
    "image_path = \"data/train/images/CFD_032.jpg\"\n",
    "image = Image.open(image_path).convert('RGB')\n",
    "input_tensor = transform(image).unsqueeze(0).to(device)\n",
    "\n",
    "# Get prediction\n",
    "model.eval()\n",
    "with torch.no_grad():\n",
    "    output = model(input_tensor)\n",
    "pred_class = output.argmax().item()\n",
    "\n",
    "# Get heatmap\n",
    "ig = IntegratedGradients(model)\n",
    "attr = ig.attribute(input_tensor, target=pred_class)\n",
    "heatmap = attr.squeeze().cpu().detach().numpy()\n",
    "\n",
    "#############\n",
    "# Get image #\n",
    "#############\n",
    "\n",
    "# Map the ranges\n",
    "heatmap_min = heatmap.min()\n",
    "heatmap_max = heatmap.max()\n",
    "heatmap = (heatmap - heatmap_min) / (heatmap_max - heatmap_min)\n",
    "\n",
    "# Threshold and scale\n",
    "heatmap = (heatmap > np.percentile(heatmap, 99.5)).astype(np.uint8)\n",
    "heatmap *= 255\n",
    "heatmap = heatmap.astype(np.uint8)\n",
    "\n",
    "# PIL input format\n",
    "heatmap = np.transpose(heatmap, (1, 2, 0))\n",
    "heatmap = heatmap.max(2)\n",
    "image = Image.fromarray(heatmap)\n",
    "image"
   ]
  },
  {
   "cell_type": "code",
   "execution_count": 26,
   "id": "f22a51c2-7ead-4a93-955c-cf7291750bcf",
   "metadata": {},
   "outputs": [
    {
     "data": {
      "image/jpeg": "[encoded data removed]",
      "image/png": "[encoded data removed]",
      "text/plain": [
       "<PIL.Image.Image image mode=L size=224x224>"
      ]
     },
     "execution_count": 26,
     "metadata": {},
     "output_type": "execute_result"
    }
   ],
   "source": [
    "from pytorch_grad_cam import GradCAM\n",
    "from pytorch_grad_cam.utils.image import preprocess_image, show_cam_on_image\n",
    "\n",
    "# Initialize Grad-CAM\n",
    "target_layer = model.layer4[-1]  # Last layer of ResNet-18\n",
    "cam = GradCAM(model, target_layers=[target_layer])\n",
    "\n",
    "# Get the predicted class\n",
    "output = model(input_tensor)\n",
    "# class_idx = torch.argmax(output).item()\n",
    "class_idx = 0\n",
    "\n",
    "# Generate the CAM\n",
    "grayscale_cam = cam(input_tensor)\n",
    "grayscale_cam = grayscale_cam[0]  # Remove batch dimension\n",
    "\n",
    "\n",
    "# Normalize the CAM to [0, 1]\n",
    "cam_normalized = (grayscale_cam - np.min(grayscale_cam)) / (np.max(grayscale_cam) - np.min(grayscale_cam))\n",
    "\n",
    "# Apply a threshold to create a binary segmentation mask\n",
    "threshold = 0.2\n",
    "segmentation_mask = (cam_normalized > threshold).astype(np.uint8) * 255  # Binary mask (0 or 255)\n",
    "\n",
    "# Resize the mask to match the original image size\n",
    "segmentation_mask_pil = Image.fromarray(segmentation_mask)\n",
    "segmentation_mask_pil"
   ]
  },
  {
   "cell_type": "code",
   "execution_count": null,
   "id": "71a0ad30-bf99-4750-bae2-26274d42d384",
   "metadata": {},
   "outputs": [],
   "source": []
  },
  {
   "cell_type": "code",
   "execution_count": null,
   "id": "84bc0ac9-fc71-4eea-b754-286b0b44eb67",
   "metadata": {},
   "outputs": [],
   "source": []
  }
 ],
 "metadata": {
  "kernelspec": {
   "display_name": "Python 3 (ipykernel)",
   "language": "python",
   "name": "python3"
  },
  "language_info": {
   "codemirror_mode": {
    "name": "ipython",
    "version": 3
   },
   "file_extension": ".py",
   "mimetype": "text/x-python",
   "name": "python",
   "nbconvert_exporter": "python",
   "pygments_lexer": "ipython3",
   "version": "3.12.8"
  }
 },
 "nbformat": 4,
 "nbformat_minor": 5
}
